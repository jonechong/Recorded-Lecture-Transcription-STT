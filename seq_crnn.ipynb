{
 "cells": [
  {
   "cell_type": "markdown",
   "metadata": {},
   "source": [
    "# Sequential CRNN"
   ]
  },
  {
   "cell_type": "markdown",
   "metadata": {},
   "source": [
    "This notebook aims to train the model for the STT task with a sequential CRNN model. We will first feed the processed audio features to a convolutional layer. The output features map from the convolutional layer will then be fed to the recurrent layer, before finally leading to the output. In contrast, a parallel CRNN will have both convolutional layer and recurrent layer run in parallel, before feature fusion into an output."
   ]
  },
  {
   "cell_type": "markdown",
   "metadata": {},
   "source": [
    "## Imports"
   ]
  },
  {
   "cell_type": "code",
   "execution_count": null,
   "metadata": {},
   "outputs": [],
   "source": [
    "import torch\n",
    "import torch.nn as nn\n",
    "import torch.optim as optim\n",
    "from torch.utils.data import DataLoader, Dataset\n",
    "from torch.nn.utils.rnn import pad_sequence\n",
    "import torch.nn.functional as F\n",
    "import h5py\n",
    "import numpy as np\n",
    "import json"
   ]
  },
  {
   "cell_type": "markdown",
   "metadata": {},
   "source": [
    "## Vocab Building & Tokenization"
   ]
  },
  {
   "cell_type": "markdown",
   "metadata": {},
   "source": [
    "### Vocab Functions"
   ]
  },
  {
   "cell_type": "code",
   "execution_count": null,
   "metadata": {},
   "outputs": [],
   "source": [
    "def build_vocab():\n",
    "    \"\"\"\n",
    "    Builds a fixed vocabulary of lowercase English letters, space, and a special\n",
    "    '<blank>' token for CTC.\n",
    "    Returns:\n",
    "        dict: A dictionary mapping characters to their integer encodings.\n",
    "    \"\"\"\n",
    "    alphabet = \"abcdefghijklmnopqrstuvwxyz \"\n",
    "    vocab = {\"<blank>\": 0}  # CTC blank token\n",
    "    for idx, char in enumerate(alphabet, start=1):  # Starting from 1 to reserve 0 for blank\n",
    "        vocab[char] = idx\n",
    "    return vocab\n",
    "\n",
    "def save_vocab(vocab, filepath):\n",
    "    with open(filepath, 'w') as f:\n",
    "        json.dump(vocab, f)\n",
    "\n",
    "def load_vocab(filepath):\n",
    "    with open(filepath, 'r') as f:\n",
    "        vocab = json.load(f)\n",
    "    return vocab"
   ]
  },
  {
   "cell_type": "markdown",
   "metadata": {},
   "source": [
    "### Tokenization Functions"
   ]
  },
  {
   "cell_type": "code",
   "execution_count": null,
   "metadata": {},
   "outputs": [],
   "source": [
    "def encode_label(label, vocab):\n",
    "    return [vocab[char] for char in label]\n",
    "\n",
    "def decode_label(encoded_label, vocab):\n",
    "    inv_vocab = {v: k for k, v in vocab.items()}\n",
    "    return ''.join(inv_vocab[id] for id in encoded_label if id not in (0, 1))  # Skip pad and blank tokens"
   ]
  },
  {
   "cell_type": "markdown",
   "metadata": {},
   "source": [
    "### Building the Vocab (use only if you don't already have the vocab built!)"
   ]
  },
  {
   "cell_type": "code",
   "execution_count": null,
   "metadata": {},
   "outputs": [],
   "source": [
    "vocab = build_vocab()\n",
    "print(vocab)\n",
    "save_vocab(vocab, 'vocab.json')"
   ]
  },
  {
   "cell_type": "markdown",
   "metadata": {},
   "source": [
    "### Loading the vocab"
   ]
  },
  {
   "cell_type": "code",
   "execution_count": null,
   "metadata": {},
   "outputs": [],
   "source": [
    "vocab = load_vocab('vocab.json')\n",
    "VOCAB_SIZE = len(vocab)"
   ]
  },
  {
   "cell_type": "markdown",
   "metadata": {},
   "source": [
    "## Dataset Class Definition"
   ]
  },
  {
   "cell_type": "code",
   "execution_count": null,
   "metadata": {},
   "outputs": [],
   "source": [
    "class SpeechDataset(Dataset):\n",
    "    def __init__(self, hdf5_path, vocab, max_length_frames=247):\n",
    "        super(SpeechDataset, self).__init__()\n",
    "        self.hdf5_path = hdf5_path\n",
    "        self.vocab = vocab\n",
    "        # Maximum sequence length for padding, 247 = 8s @ 16000 Hz, 512 hop length for MFCC\n",
    "        self.max_length_frames = max_length_frames  \n",
    "        \n",
    "        self.keys = []  # Initialize an empty list for valid keys\n",
    "        with h5py.File(hdf5_path, 'r') as file:\n",
    "            for key in file.keys():\n",
    "                # Check if 'label' exists for this key\n",
    "                if 'label' in file[key]:\n",
    "                    self.keys.append(key)\n",
    "                else:\n",
    "                    print(f\"Skipping {key} due to missing label.\")\n",
    "\n",
    "    def __len__(self):\n",
    "        return len(self.keys)\n",
    "\n",
    "    def __getitem__(self, idx):\n",
    "        with h5py.File(self.hdf5_path, 'r') as f:\n",
    "            key = self.keys[idx]\n",
    "            # Or use whatever features you need\n",
    "            # melspectrogram = np.array(f[key]['melspectrogram']).astype(np.float32)\n",
    "            mfccs = np.array(f[key]['mfccs']).astype(np.float32)\n",
    "            \n",
    "            # Calculate the number of padding frames needed\n",
    "            # padding_length = self.max_length_frames - melspectrogram.shape[1]\n",
    "            padding_length = self.max_length_frames - mfccs.shape[1]\n",
    "            if padding_length > 0:\n",
    "                # Pad the sequence to max_length_frames if it's shorter\n",
    "                # melspectrogram = np.pad(melspectrogram, ((0,0), (0, padding_length)), mode='constant', constant_values=0)\n",
    "                mfccs = np.pad(mfccs, ((0,0), (0, padding_length)), mode='constant', constant_values=0)\n",
    "            elif padding_length < 0:\n",
    "                # Truncate the sequence to max_length_frames if it's longer\n",
    "                # melspectrogram = melspectrogram[:, :self.max_length_frames]\n",
    "                mfccs = mfccs[:, :self.max_length_frames]\n",
    "\n",
    "            # melspectrogram = np.expand_dims(melspectrogram, 0)  # Shape: [1, Freq, Time]\n",
    "            mfccs = np.expand_dims(mfccs, 0)  # Shape: [1, Freq, Time]\n",
    "\n",
    "            label_str = f[key]['label'][()].decode('utf-8')\n",
    "            label = encode_label(label_str, self.vocab)\n",
    "            input_length = self.max_length_frames\n",
    "            label_length = len(label)\n",
    "\n",
    "        # return torch.tensor(melspectrogram), torch.tensor(label, dtype=torch.int), input_length, label_length\n",
    "        return torch.tensor(mfccs), torch.tensor(label, dtype=torch.int64), self.max_length_frames, torch.tensor(label_length, dtype=torch.int64)"
   ]
  },
  {
   "cell_type": "markdown",
   "metadata": {},
   "source": [
    "## CRNN Class Definition"
   ]
  },
  {
   "cell_type": "code",
   "execution_count": null,
   "metadata": {},
   "outputs": [],
   "source": [
    "class CRNN(nn.Module):\n",
    "    def __init__(self, num_mfcc_features, hidden_size, num_layers=2):\n",
    "        super(CRNN, self).__init__()\n",
    "        self.fc_out_size = VOCAB_SIZE  # Number of output classes, including the blank for CTC\n",
    "\n",
    "        # Convolutional layers with Batch Normalization and Dropout\n",
    "        self.conv = nn.Sequential(\n",
    "            nn.Conv2d(1, 32, kernel_size=3, stride=1, padding=1),\n",
    "            nn.BatchNorm2d(32),  # BatchNorm after convolution\n",
    "            nn.ReLU(),\n",
    "            nn.MaxPool2d(2),\n",
    "            nn.Dropout(0.25),  # Dropout after pooling\n",
    "            nn.Conv2d(32, 64, kernel_size=3, stride=1, padding=1),\n",
    "            nn.BatchNorm2d(64),  # BatchNorm after convolution\n",
    "            nn.ReLU(),\n",
    "            nn.MaxPool2d(2),\n",
    "            nn.Dropout(0.25),  # Dropout after pooling\n",
    "        )\n",
    "\n",
    "        # Calculate the size of the RNN's input. Assuming the input MFCCs have shape [Batch, 1, Time, Features]\n",
    "        # and after convolutions and pooling, the feature (height) dimension is reduced by a factor of 4,\n",
    "        # and the time (width) dimension is also reduced. The factor reduction in the time dimension depends on\n",
    "        # the length of your input sequences and the exact architecture of your convolutional layers.\n",
    "        self.rnn_input_size = 64 * (num_mfcc_features // 4)  # Adjust based on your pooling and convolution operations\n",
    "\n",
    "        # Recurrent layers\n",
    "        self.rnn = nn.GRU(\n",
    "            input_size=self.rnn_input_size,\n",
    "            hidden_size=hidden_size,\n",
    "            num_layers=num_layers,\n",
    "            batch_first=True,\n",
    "        )\n",
    "\n",
    "        # Fully connected layer\n",
    "        self.fc = nn.Linear(hidden_size, self.fc_out_size)\n",
    "\n",
    "    def forward(self, x):\n",
    "        # Apply convolutional layers\n",
    "        x = self.conv(x)  \n",
    "        # Prepare the output of the CNN for the RNN\n",
    "        batch, channels, height, width = x.size()\n",
    "        x = x.permute(0, 3, 1, 2).contiguous()  # Change to [Batch, Width, Channels, Height]\n",
    "        x = x.view(batch, width, -1)  # Flatten the feature maps\n",
    "        \n",
    "        # Apply RNN\n",
    "        output, _ = self.rnn(x)\n",
    "        \n",
    "        # Apply fully connected layer\n",
    "        output = self.fc(output)\n",
    "        \n",
    "        return output"
   ]
  },
  {
   "cell_type": "markdown",
   "metadata": {},
   "source": [
    "## Training functions"
   ]
  },
  {
   "cell_type": "markdown",
   "metadata": {},
   "source": [
    "### Saver/Loader functions"
   ]
  },
  {
   "cell_type": "code",
   "execution_count": null,
   "metadata": {},
   "outputs": [],
   "source": [
    "def save_checkpoint(state, filename=\"my_checkpoint.pth.tar\"):\n",
    "    \"\"\"\n",
    "    Saves the model and training parameters at the specified checkpoint.\n",
    "    \"\"\"\n",
    "    torch.save(state, filename)\n",
    "\n",
    "def load_checkpoint(checkpoint, model, optimizer):\n",
    "    \"\"\"\n",
    "    Loads the model and training parameters from a specified checkpoint.\n",
    "    \"\"\"\n",
    "    model.load_state_dict(checkpoint['state_dict'])\n",
    "    optimizer.load_state_dict(checkpoint['optimizer'])\n",
    "    return checkpoint['epoch']"
   ]
  },
  {
   "cell_type": "markdown",
   "metadata": {},
   "source": [
    "### Custom Collate Function\n",
    "This is necessary because the default data collation function (default_collate) attempts to stack all tensors in a batch along a new dimension, but this requires all tensors to have the same shape. But we are using CTC, so our tensors will be a little different"
   ]
  },
  {
   "cell_type": "code",
   "execution_count": null,
   "metadata": {},
   "outputs": [],
   "source": [
    "def custom_collate_fn(batch):\n",
    "    mfccs, labels, input_lengths, label_lengths = zip(*batch)\n",
    "    \n",
    "    # Pad the mfcc sequences (this might be redundant with your existing padding, depending on your implementation)\n",
    "    mfccs_padded = pad_sequence(mfccs, batch_first=True, padding_value=0)\n",
    "    \n",
    "    # Pad the label sequences to the maximum label length in the batch\n",
    "    labels_padded = pad_sequence(labels, batch_first=True, padding_value=0)  # Assumes 0 is an appropriate pad value\n",
    "    \n",
    "    input_lengths = torch.tensor(input_lengths, dtype=torch.long)\n",
    "    label_lengths = torch.tensor(label_lengths, dtype=torch.long)\n",
    "    \n",
    "    return mfccs_padded, labels_padded, input_lengths, label_lengths"
   ]
  },
  {
   "cell_type": "markdown",
   "metadata": {},
   "source": [
    "### Train Function"
   ]
  },
  {
   "cell_type": "code",
   "execution_count": null,
   "metadata": {},
   "outputs": [],
   "source": [
    "def train(model, device, train_loader, optimizer, epochs, start_epoch=0):\n",
    "    model.train()\n",
    "    criterion = nn.CTCLoss(blank=0, zero_infinity=True)\n",
    "    \n",
    "    # Start from the next epoch if resuming\n",
    "    for epoch in range(start_epoch, epochs):\n",
    "        for mels, labels, input_lengths, label_lengths in train_loader:\n",
    "            mels = mels.to(device)\n",
    "            labels = labels.to(device)\n",
    "            optimizer.zero_grad()\n",
    "            outputs = model(mels)\n",
    "            outputs = F.log_softmax(outputs, dim=2)\n",
    "            # We use 61 because that is the length if the input audio is 8s\n",
    "            processed_seq_length = 61\n",
    "            input_lengths = torch.full(size=(mels.size(0),), fill_value=processed_seq_length, dtype=torch.long).to(device)\n",
    "\n",
    "            loss = criterion(outputs.permute(1, 0, 2), labels, input_lengths, label_lengths)\n",
    "            loss.backward()\n",
    "            optimizer.step()\n",
    "        print(f'Epoch {epoch+1}, Loss: {loss.item()}')\n",
    "        \n",
    "        # Save model at each epoch\n",
    "        save_checkpoint({\n",
    "            'epoch': epoch,\n",
    "            'state_dict': model.state_dict(),\n",
    "            'optimizer': optimizer.state_dict(),\n",
    "        }, filename=f\"checkpoint_epoch_{epoch}.pth.tar\")"
   ]
  },
  {
   "cell_type": "markdown",
   "metadata": {},
   "source": [
    "## Execution"
   ]
  },
  {
   "cell_type": "markdown",
   "metadata": {},
   "source": [
    "### Params"
   ]
  },
  {
   "cell_type": "code",
   "execution_count": null,
   "metadata": {},
   "outputs": [],
   "source": [
    "# Paths declaration\n",
    "hdf5_path = r\"C:\\Users\\jonec\\Documents\\SUTD\\T6\\AI\\STT\\Recorded-Lecture-Transcription-STT\\reduced_mfcc_dataset.h5\"\n",
    "\n",
    "# Model params declaration\n",
    "learning_rate = 0.001\n",
    "epochs = 30\n",
    "batch_size = 256\n",
    "num_mfcc_features = 13\n",
    "hidden_size = 256\n",
    "num_layers = 2"
   ]
  },
  {
   "cell_type": "code",
   "execution_count": null,
   "metadata": {},
   "outputs": [],
   "source": [
    "# Set device to GPU if available\n",
    "# Define the device\n",
    "device = torch.device(\"cuda\" if torch.cuda.is_available() else \"cpu\")\n",
    "print(f\"Using device: {device}\")\n",
    "\n",
    "# Dataset and DataLoader instantiation\n",
    "dataset = SpeechDataset(hdf5_path, vocab)\n",
    "loader = DataLoader(dataset, batch_size=batch_size, shuffle=True, collate_fn=custom_collate_fn)\n",
    "\n",
    "# Load the checkpoint file. Use only if you are indeed loading from a checkpoint\n",
    "# checkpoint = torch.load(\"checkpoint_epoch_X.pth.tar\")  # Replace X with the checkpoint epoch\n",
    "\n",
    "# Model initialisation\n",
    "model = CRNN(num_mfcc_features=num_mfcc_features, hidden_size=hidden_size, num_layers=num_layers).to(device)\n",
    "\n",
    "# Training execution\n",
    "optimizer = optim.Adam(model.parameters(), lr=learning_rate)\n",
    "\n",
    "# Load the model and optimizer state from the checkpoint. Again, use only if you are indeed loading from a checkpoint\n",
    "# start_epoch = load_checkpoint(checkpoint, model, optimizer)\n",
    "\n",
    "train(model, device, loader, optimizer, epochs=epochs)"
   ]
  },
  {
   "cell_type": "code",
   "execution_count": null,
   "metadata": {},
   "outputs": [],
   "source": []
  }
 ],
 "metadata": {
  "kernelspec": {
   "display_name": "SUTD",
   "language": "python",
   "name": "python3"
  },
  "language_info": {
   "codemirror_mode": {
    "name": "ipython",
    "version": 3
   },
   "file_extension": ".py",
   "mimetype": "text/x-python",
   "name": "python",
   "nbconvert_exporter": "python",
   "pygments_lexer": "ipython3",
   "version": "3.9.18"
  }
 },
 "nbformat": 4,
 "nbformat_minor": 2
}
